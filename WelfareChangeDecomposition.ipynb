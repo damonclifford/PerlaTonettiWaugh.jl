{
 "cells": [
  {
   "cell_type": "code",
   "execution_count": 1,
   "metadata": {},
   "outputs": [],
   "source": [
    "using PerlaTonettiWaugh"
   ]
  },
  {
   "cell_type": "code",
   "execution_count": 2,
   "metadata": {},
   "outputs": [
    {
     "data": {
      "text/plain": [
       "3.0426"
      ]
     },
     "execution_count": 2,
     "metadata": {},
     "output_type": "execute_result"
    }
   ],
   "source": [
    "params = parameter_defaults() # without d \n",
    "d_baseline = params.d_0"
   ]
  },
  {
   "cell_type": "markdown",
   "metadata": {},
   "source": [
    "### Baseline Steady State"
   ]
  },
  {
   "cell_type": "code",
   "execution_count": 3,
   "metadata": {},
   "outputs": [],
   "source": [
    "params_baseline = merge(params, (d = 3.0426,))\n",
    "sol_baseline = stationary_algebraic(params_baseline, settings_defaults());"
   ]
  },
  {
   "cell_type": "code",
   "execution_count": 4,
   "metadata": {},
   "outputs": [
    {
     "name": "stdout",
     "output_type": "stream",
     "text": [
      "g: 0.006741737930000616\n",
      "z_hat: 1.9775524589786164\n",
      "Omega: 0.96128722109579\n",
      "c: 1.0332687191739103\n",
      "U_bar: 16.10681381780279\n",
      "lambda: 0.8956061037770533\n",
      "y: 1.0332687191739103\n"
     ]
    }
   ],
   "source": [
    "println(\"g: $(sol_baseline.g)\")\n",
    "println(\"z_hat: $(sol_baseline.z_hat)\")\n",
    "println(\"Omega: $(sol_baseline.Ω)\")\n",
    "println(\"c: $(sol_baseline.c)\")\n",
    "println(\"U_bar: $(sol_baseline.U_bar)\")\n",
    "println(\"lambda: $(sol_baseline.λ_ii)\")\n",
    "println(\"y: $(sol_baseline.y)\");"
   ]
  },
  {
   "cell_type": "markdown",
   "metadata": {},
   "source": [
    "### Counterfactual Steady State"
   ]
  },
  {
   "cell_type": "code",
   "execution_count": 5,
   "metadata": {},
   "outputs": [],
   "source": [
    "ϵ = 0.000001\n",
    "d_counterfactual = params_baseline.d + ϵ\n",
    "params_counterfactual = merge(params, (d = d_counterfactual,))\n",
    "sol_counterfactual = stationary_algebraic(params_counterfactual, settings_defaults());"
   ]
  },
  {
   "cell_type": "code",
   "execution_count": 6,
   "metadata": {},
   "outputs": [
    {
     "name": "stdout",
     "output_type": "stream",
     "text": [
      "g: 0.006741730679597209\n",
      "z_hat: 1.9775531320684239\n",
      "Omega: 0.9612874371207518\n",
      "c: 1.033268767834573\n",
      "U_bar: 16.106800323190804\n",
      "lambda: 0.8956062605714925\n",
      "y: 1.033268767834573\n"
     ]
    }
   ],
   "source": [
    "println(\"g: $(sol_counterfactual.g)\")\n",
    "println(\"z_hat: $(sol_counterfactual.z_hat)\")\n",
    "println(\"Omega: $(sol_counterfactual.Ω)\")\n",
    "println(\"c: $(sol_counterfactual.c)\")\n",
    "println(\"U_bar: $(sol_counterfactual.U_bar)\")\n",
    "println(\"lambda: $(sol_counterfactual.λ_ii)\")\n",
    "println(\"y: $(sol_counterfactual.y)\");"
   ]
  },
  {
   "cell_type": "markdown",
   "metadata": {},
   "source": [
    "### Total Derivative"
   ]
  },
  {
   "cell_type": "code",
   "execution_count": 7,
   "metadata": {},
   "outputs": [],
   "source": [
    "tot_der = total_derivative(params_baseline, ϵ);"
   ]
  },
  {
   "cell_type": "code",
   "execution_count": 8,
   "metadata": {},
   "outputs": [
    {
     "name": "stdout",
     "output_type": "stream",
     "text": [
      "check = 1.0000003786973666\n",
      "d_U_d_total = -13.494611985965818\n",
      "U_1 = 45.01406753527041\n",
      "U_2 = 2163.331530557058\n",
      "ACR = -3.500154791150509e-6\n",
      "∂_fc_d = -0.03545220982951906\n",
      "∂_fc_g = -6.456945307541626\n",
      "∂_fc_zhat = -4.685141164303592e-8\n",
      "∂_fc_Omega = 0.1726528775453408\n",
      "∂_g_d = -0.007250403405982174\n",
      "∂_zhat_d = 0.6730898073517649\n",
      "∂_Omega_d = 0.21602496177753036\n",
      "total_decomp = -13.49461709633984\n",
      "decomp_fc_d = -0.03545220982951906\n",
      "decomp_fc_Omega_Omega_d = 0.037297331272512876\n",
      "decomp_fc_zhat_zhat_d = -3.153520763696928e-8\n",
      "decomp_fc_g_g_d = 0.04681545825004042\n",
      "decomp_g_d = -0.007250403405982174\n",
      "planner_0_g = -13.577672098057572\n",
      "planner_0_Omega = 1.6789045887862477\n",
      "planner_0_zhat = -1.4195279663093105e-6\n",
      "U1_partial_fc_d_frac = 0.1182581288633519\n",
      "U1_decomp_fc_Omega_Omega_d_frac = -0.12441291048129247\n",
      "U1_decomp_fc_zhat_zhat_d_frac = 1.0519216337707947e-7\n",
      "U1_decomp_fc_g_g_d_frac = -0.15616257833158761\n",
      "U2_decomp_g_d_frac = 1.1623172547573648\n",
      "planner_0_g_frac = 1.0061546764257772\n",
      "planner_0_Omega_frac = -0.12441291048129248\n",
      "planner_0_zhat_frac = 1.0519216337707948e-7\n"
     ]
    }
   ],
   "source": [
    "for (key, value) in pairs(tot_der)\n",
    "    println(\"$key = $value\")\n",
    "end"
   ]
  }
 ],
 "metadata": {
  "kernelspec": {
   "display_name": "Julia 1.3.0",
   "language": "julia",
   "name": "julia-1.3"
  },
  "language_info": {
   "file_extension": ".jl",
   "mimetype": "application/julia",
   "name": "julia",
   "version": "1.3.0"
  }
 },
 "nbformat": 4,
 "nbformat_minor": 4
}
