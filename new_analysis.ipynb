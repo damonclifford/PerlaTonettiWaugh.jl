{
 "cells": [
  {
   "cell_type": "code",
   "execution_count": 1,
   "metadata": {},
   "outputs": [
    {
     "name": "stderr",
     "output_type": "stream",
     "text": [
      "┌ Info: Precompiling PerlaTonettiWaugh [d2cacc76-b06b-11e8-362b-f18d03a16405]\n",
      "└ @ Base loading.jl:1273\n",
      "┌ Warning: Module BandedMatrices with build ID 176192222987157 is missing from the cache.\n",
      "│ This may mean BandedMatrices [aae01518-5342-5314-be14-df237901396f] does not support precompilation but is imported by a module that does.\n",
      "└ @ Base loading.jl:1011\n",
      "┌ Warning: Module BandedMatrices with build ID 176192222987157 is missing from the cache.\n",
      "│ This may mean BandedMatrices [aae01518-5342-5314-be14-df237901396f] does not support precompilation but is imported by a module that does.\n",
      "└ @ Base loading.jl:1011\n",
      "┌ Warning: Replacing module `BandedMatrices`\n",
      "└ @ Base loading.jl:942\n"
     ]
    }
   ],
   "source": [
    "using PerlaTonettiWaugh, Parameters"
   ]
  },
  {
   "cell_type": "markdown",
   "metadata": {},
   "source": [
    "### Baseline Steady State"
   ]
  },
  {
   "cell_type": "code",
   "execution_count": 2,
   "metadata": {},
   "outputs": [],
   "source": [
    "d_baseline = 3.0426 # d_0\n",
    "params = parameter_defaults(γ = 1)\n",
    "settings = settings_defaults();\n",
    "params_baseline = merge(params, (d = d_baseline,));"
   ]
  },
  {
   "cell_type": "code",
   "execution_count": 3,
   "metadata": {},
   "outputs": [
    {
     "name": "stdout",
     "output_type": "stream",
     "text": [
      "g: 0.006741737930000616\n",
      "z_hat: 1.9775524589786164\n",
      "Omega: 0.96128722109579\n",
      "c: 1.0332687191739103\n",
      "U_bar: 16.10681381780279\n",
      "lambda: 0.8956061037770533\n",
      "y: 1.0332687191739103\n"
     ]
    }
   ],
   "source": [
    "stationary_baseline = stationary_algebraic(params_baseline, settings);\n",
    "println(\"g: $(stationary_baseline.g)\")\n",
    "println(\"z_hat: $(stationary_baseline.z_hat)\")\n",
    "println(\"Omega: $(stationary_baseline.Ω)\")\n",
    "println(\"c: $(stationary_baseline.c)\")\n",
    "println(\"U_bar: $(stationary_baseline.U_bar)\")\n",
    "println(\"lambda: $(stationary_baseline.λ_ii)\")\n",
    "println(\"y: $(stationary_baseline.y)\");"
   ]
  },
  {
   "cell_type": "markdown",
   "metadata": {},
   "source": [
    "### Counterfactual Steady State"
   ]
  },
  {
   "cell_type": "code",
   "execution_count": 4,
   "metadata": {},
   "outputs": [],
   "source": [
    "d_counterfactual = 1 + 0.99*(d_baseline - 1);\n",
    "params_counterfactual = merge(params, (d = d_counterfactual,))\n",
    "stationary_counterfactual = stationary_algebraic(params_counterfactual, settings);"
   ]
  },
  {
   "cell_type": "code",
   "execution_count": 5,
   "metadata": {},
   "outputs": [
    {
     "name": "stdout",
     "output_type": "stream",
     "text": [
      "g: 0.006892833763804623\n",
      "z_hat: 1.9638000950768109\n",
      "Omega: 0.9568038245589312\n",
      "c: 1.0322592014126297\n",
      "U_bar: 16.388219485078398\n",
      "lambda: 0.8923478897087848\n",
      "y: 1.0322592014126297\n",
      "ACR_full: 0.07286641939445852\n",
      "d_U_bar = stationary_counterfactual.U_bar - stationary_baseline.U_bar = 0.2814056672756067\n"
     ]
    }
   ],
   "source": [
    "println(\"g: $(stationary_counterfactual.g)\")\n",
    "println(\"z_hat: $(stationary_counterfactual.z_hat)\")\n",
    "println(\"Omega: $(stationary_counterfactual.Ω)\")\n",
    "println(\"c: $(stationary_counterfactual.c)\")\n",
    "println(\"U_bar: $(stationary_counterfactual.U_bar)\")\n",
    "println(\"lambda: $(stationary_counterfactual.λ_ii)\")\n",
    "println(\"y: $(stationary_counterfactual.y)\")\n",
    "ACR_full = 100*(-1/params.θ)*log(stationary_counterfactual.λ_ii/stationary_baseline.λ_ii)\n",
    "println(\"ACR_full: $(ACR_full)\");\n",
    "@show d_U_bar = stationary_counterfactual.U_bar - stationary_baseline.U_bar;"
   ]
  },
  {
   "cell_type": "markdown",
   "metadata": {},
   "source": [
    "### Decomposition 1: $\\frac{\\partial c}{\\partial d}$ (change in consumption when changing trade cost, holding fixed Omega, zhat, g)"
   ]
  },
  {
   "cell_type": "code",
   "execution_count": 6,
   "metadata": {},
   "outputs": [],
   "source": [
    "sol = steady_state_from_g(stationary_baseline.g, stationary_baseline.z_hat, stationary_baseline.Ω, params_counterfactual, settings);"
   ]
  },
  {
   "cell_type": "code",
   "execution_count": 7,
   "metadata": {},
   "outputs": [
    {
     "name": "stdout",
     "output_type": "stream",
     "text": [
      "c: 1.0340003467567838\n",
      "z_hat: 1.9775524589786164\n",
      "Omega: 0.96128722109579\n",
      "lambda: 0.8942299529521637\n",
      "U_bar: 16.139735697090448\n",
      "ACR_partial: 0.03074372884116476\n",
      "dc: 0.0007316275828734842\n",
      "dc_frac: 0.0007080709686618737\n",
      "d_U_1 = 1 / (stationary_baseline.c * params.ρ) = 45.01406753527041\n",
      "d_U_bar - d_U_1 * dc = 0.248472133849473\n",
      "d_U_Comp1_frac = (100 * (d_U_bar - d_U_1 * dc)) / d_U_bar = 88.2967767689345\n"
     ]
    }
   ],
   "source": [
    "println(\"c: $(sol.c)\")\n",
    "println(\"z_hat: $(sol.z_hat)\")\n",
    "println(\"Omega: $(sol.Ω)\")\n",
    "println(\"lambda: $(sol.λ_ii)\")\n",
    "println(\"U_bar: $(sol.U_bar)\")\n",
    "U_bar_partial = sol.U_bar;\n",
    "ACR_partial = 100*(-1/params.θ)*log(sol.λ_ii/stationary_baseline.λ_ii)\n",
    "dc = sol.c - stationary_baseline.c\n",
    "dc_frac = dc/ stationary_baseline.c\n",
    "println(\"ACR_partial: $(ACR_partial)\")\n",
    "println(\"dc: $(dc)\")\n",
    "println(\"dc_frac: $(dc_frac)\")\n",
    "@show d_U_1 = 1/(stationary_baseline.c * params.ρ) # constant\n",
    "@show d_U_bar - d_U_1  * dc\n",
    "@show d_U_Comp1_frac=100*(d_U_bar-d_U_1*dc)/d_U_bar;"
   ]
  },
  {
   "cell_type": "markdown",
   "metadata": {},
   "source": [
    "### Decomposition 2: $\\frac{\\partial c}{\\partial g}$ (change in consumption when changing g, holding fixed Omega, zhat, d)"
   ]
  },
  {
   "cell_type": "code",
   "execution_count": 8,
   "metadata": {},
   "outputs": [],
   "source": [
    "sol = steady_state_from_g(1.01*stationary_baseline.g, stationary_baseline.z_hat, stationary_baseline.Ω, params_baseline, settings);"
   ]
  },
  {
   "cell_type": "code",
   "execution_count": 9,
   "metadata": {},
   "outputs": [
    {
     "name": "stdout",
     "output_type": "stream",
     "text": [
      "c: 1.0328334088429962\n",
      "z_hat: 1.9775524589786164\n",
      "Omega: 0.96128722109579\n",
      "lambda: 0.8956061037770533\n",
      "U_bar: 16.233060742705174\n",
      "ACR_partial: -0.0\n",
      "dc_frac = (sol.c - stationary_baseline.c) / stationary_baseline.c = -0.0004212944056431588\n"
     ]
    }
   ],
   "source": [
    "println(\"c: $(sol.c)\")\n",
    "println(\"z_hat: $(sol.z_hat)\")\n",
    "println(\"Omega: $(sol.Ω)\")\n",
    "println(\"lambda: $(sol.λ_ii)\")\n",
    "println(\"U_bar: $(sol.U_bar)\")\n",
    "U_bar_partial = sol.U_bar;\n",
    "ACR_partial = 100*(-1/params.θ)*log(sol.λ_ii/stationary_baseline.λ_ii)\n",
    "println(\"ACR_partial: $(ACR_partial)\")\n",
    "@show dc_frac = (sol.c - stationary_baseline.c)/ stationary_baseline.c;"
   ]
  },
  {
   "cell_type": "markdown",
   "metadata": {},
   "source": [
    "### Decomposition 3: $\\frac{\\partial g}{\\partial d}$ (change in g when changing d, holding fixed Omega, zhat, and c)"
   ]
  },
  {
   "cell_type": "code",
   "execution_count": 10,
   "metadata": {},
   "outputs": [],
   "source": [
    "sol = steady_state_from_c(stationary_baseline.c, stationary_baseline.z_hat, stationary_baseline.Ω, params_counterfactual, settings);"
   ]
  },
  {
   "cell_type": "code",
   "execution_count": 11,
   "metadata": {},
   "outputs": [
    {
     "name": "stdout",
     "output_type": "stream",
     "text": [
      "g: 0.006854966379423493\n",
      "c: 1.0332687191739103\n",
      "z_hat: 1.9775524589786164\n",
      "Omega: 0.96128722109579\n",
      "lambda: 0.8942299529521637\n",
      "U_bar: 16.35176449259539\n",
      "ACR_partial: 0.03074372884116476\n",
      "dc_frac = (sol.c - stationary_baseline.c) / stationary_baseline.c = 0.0\n",
      "dg_frac = (sol.g - stationary_baseline.g) / stationary_baseline.g = 0.0167951425283105\n"
     ]
    }
   ],
   "source": [
    "println(\"g: $(sol.g)\")\n",
    "println(\"c: $(sol.c)\")\n",
    "println(\"z_hat: $(sol.z_hat)\")\n",
    "println(\"Omega: $(sol.Ω)\")\n",
    "println(\"lambda: $(sol.λ_ii)\")\n",
    "println(\"U_bar: $(sol.U_bar)\")\n",
    "U_bar_partial = sol.U_bar;\n",
    "ACR_partial = 100*(-1/params.θ)*log(sol.λ_ii/stationary_baseline.λ_ii)\n",
    "println(\"ACR_partial: $(ACR_partial)\")\n",
    "@show dc_frac = (sol.c - stationary_baseline.c)/ stationary_baseline.c\n",
    "@show dg_frac = (sol.g - stationary_baseline.g) / stationary_baseline.g;"
   ]
  },
  {
   "cell_type": "markdown",
   "metadata": {},
   "source": [
    "### Decomposition 4: $\\frac{\\partial g}{\\partial c}$ (change in g when changing c, holding fixed Omega, zhat, and d)"
   ]
  },
  {
   "cell_type": "code",
   "execution_count": 12,
   "metadata": {},
   "outputs": [],
   "source": [
    "sol = steady_state_from_c(stationary_baseline.c*1.01, stationary_baseline.z_hat, stationary_baseline.Ω, params_baseline, settings);"
   ]
  },
  {
   "cell_type": "code",
   "execution_count": 13,
   "metadata": {},
   "outputs": [
    {
     "name": "stdout",
     "output_type": "stream",
     "text": [
      "g: 0.005141494053106584\n",
      "c: 1.0436014063656494\n",
      "z_hat: 1.9775524589786164\n",
      "Omega: 0.96128722109579\n",
      "lambda: 0.8956061037770533\n",
      "U_bar: 13.10776186853093\n",
      "ACR_partial: -0.0\n",
      "dc_frac = (sol.c - stationary_baseline.c) / stationary_baseline.c = 0.009999999999999974\n",
      "dg_frac = (sol.g - stationary_baseline.g) / stationary_baseline.g = -0.23736370258075065\n"
     ]
    }
   ],
   "source": [
    "println(\"g: $(sol.g)\")\n",
    "println(\"c: $(sol.c)\")\n",
    "println(\"z_hat: $(sol.z_hat)\")\n",
    "println(\"Omega: $(sol.Ω)\")\n",
    "println(\"lambda: $(sol.λ_ii)\")\n",
    "println(\"U_bar: $(sol.U_bar)\")\n",
    "U_bar_partial = sol.U_bar;\n",
    "ACR_partial = 100*(-1/params.θ)*log(sol.λ_ii/stationary_baseline.λ_ii)\n",
    "println(\"ACR_partial: $(ACR_partial)\")\n",
    "@show dc_frac = (sol.c - stationary_baseline.c)/ stationary_baseline.c\n",
    "@show dg_frac = (sol.g - stationary_baseline.g) / stationary_baseline.g;"
   ]
  },
  {
   "cell_type": "markdown",
   "metadata": {},
   "source": [
    "### Total Derivative"
   ]
  },
  {
   "cell_type": "code",
   "execution_count": 14,
   "metadata": {},
   "outputs": [],
   "source": [
    "D = total_derivative(params_baseline);"
   ]
  },
  {
   "cell_type": "code",
   "execution_count": 15,
   "metadata": {},
   "outputs": [],
   "source": [
    "@unpack U_1, U_2, ∂_c_d, ∂_c_g, ∂_g_c, ∂_g_d, d_U_d, total_decomp, check, planner_0, planner_0_frac, decomp_1_frac, decomp_2_frac, decomp_3_frac, decomp_4_frac = D;"
   ]
  },
  {
   "cell_type": "code",
   "execution_count": 16,
   "metadata": {},
   "outputs": [
    {
     "name": "stdout",
     "output_type": "stream",
     "text": [
      "U_1 = 45.01406753527041\n",
      "U_2 = 2163.331530557058\n",
      "∂_c_d = 0.0007316275828734842\n",
      "∂_c_g = -0.0004353103309140405\n",
      "∂_g_d = 0.00011322844942287733\n",
      "∂_g_c = -0.0016002438768940317\n",
      "d_U_d = 0.2814056672756067\n",
      "total_decomp = 0.27534919867048796\n",
      "check = -0.006056468605118714\n",
      "planner_0 = 0.24494845607109328\n",
      "planner_0_frac = 0.8895920425910684\n",
      "decomp_1_frac = 0.11960642553220364\n",
      "decomp_2_frac = -8.057846229837256e-6\n",
      "decomp_3_frac = 0.8896001004372982\n",
      "decomp_4_frac = -0.009198468123271873\n"
     ]
    }
   ],
   "source": [
    "@show U_1\n",
    "@show U_2\n",
    "@show ∂_c_d\n",
    "@show ∂_c_g\n",
    "@show ∂_g_d\n",
    "@show ∂_g_c\n",
    "@show d_U_d\n",
    "@show total_decomp\n",
    "@show check\n",
    "@show planner_0\n",
    "@show planner_0_frac\n",
    "@show decomp_1_frac\n",
    "@show decomp_2_frac\n",
    "@show decomp_3_frac\n",
    "@show decomp_4_frac;"
   ]
  }
 ],
 "metadata": {
  "kernelspec": {
   "display_name": "Julia 1.3.0",
   "language": "julia",
   "name": "julia-1.3"
  },
  "language_info": {
   "file_extension": ".jl",
   "mimetype": "application/julia",
   "name": "julia",
   "version": "1.3.0"
  }
 },
 "nbformat": 4,
 "nbformat_minor": 4
}
