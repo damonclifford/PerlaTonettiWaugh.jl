{
 "cells": [
  {
   "cell_type": "code",
   "execution_count": null,
   "metadata": {},
   "outputs": [],
   "source": [
    "using PerlaTonettiWaugh, Parameters"
   ]
  },
  {
   "cell_type": "markdown",
   "metadata": {},
   "source": [
    "### Baseline Steady State"
   ]
  },
  {
   "cell_type": "code",
   "execution_count": null,
   "metadata": {},
   "outputs": [],
   "source": [
    "d_baseline = 3.0426 # d_0\n",
    "params = parameter_defaults(γ = 1)\n",
    "settings = settings_defaults();\n",
    "params_baseline = merge(params, (d = d_baseline,));"
   ]
  },
  {
   "cell_type": "code",
   "execution_count": null,
   "metadata": {},
   "outputs": [],
   "source": [
    "stationary_baseline = stationary_algebraic(params_baseline, settings);\n",
    "println(\"g: $(stationary_baseline.g)\")\n",
    "println(\"z_hat: $(stationary_baseline.z_hat)\")\n",
    "println(\"Omega: $(stationary_baseline.Ω)\")\n",
    "println(\"c: $(stationary_baseline.c)\")\n",
    "println(\"U_bar: $(stationary_baseline.U_bar)\")\n",
    "println(\"lambda: $(stationary_baseline.λ_ii)\")\n",
    "println(\"y: $(stationary_baseline.y)\");"
   ]
  },
  {
   "cell_type": "markdown",
   "metadata": {},
   "source": [
    "### Counterfactual Steady State"
   ]
  },
  {
   "cell_type": "code",
   "execution_count": null,
   "metadata": {},
   "outputs": [],
   "source": [
    "d_counterfactual = 1 + 0.99*(d_baseline - 1);\n",
    "params_counterfactual = merge(params, (d = d_counterfactual,))\n",
    "stationary_counterfactual = stationary_algebraic(params_counterfactual, settings);"
   ]
  },
  {
   "cell_type": "code",
   "execution_count": null,
   "metadata": {},
   "outputs": [],
   "source": [
    "println(\"g: $(stationary_counterfactual.g)\")\n",
    "println(\"z_hat: $(stationary_counterfactual.z_hat)\")\n",
    "println(\"Omega: $(stationary_counterfactual.Ω)\")\n",
    "println(\"c: $(stationary_counterfactual.c)\")\n",
    "println(\"U_bar: $(stationary_counterfactual.U_bar)\")\n",
    "println(\"lambda: $(stationary_counterfactual.λ_ii)\")\n",
    "println(\"y: $(stationary_counterfactual.y)\")\n",
    "ACR_full = 100*(-1/params.θ)*log(stationary_counterfactual.λ_ii/stationary_baseline.λ_ii)\n",
    "println(\"ACR_full: $(ACR_full)\");\n",
    "@show d_U_bar = stationary_counterfactual.U_bar - stationary_baseline.U_bar;"
   ]
  },
  {
   "cell_type": "markdown",
   "metadata": {},
   "source": [
    "### Decomposition 1: $\\frac{\\partial c}{\\partial d}$ (change in consumption when changing trade cost, holding fixed Omega, zhat, g)"
   ]
  },
  {
   "cell_type": "code",
   "execution_count": null,
   "metadata": {},
   "outputs": [],
   "source": [
    "sol = steady_state_from_g(stationary_baseline.g, stationary_baseline.z_hat, stationary_baseline.Ω, params_counterfactual, settings);"
   ]
  },
  {
   "cell_type": "code",
   "execution_count": null,
   "metadata": {},
   "outputs": [],
   "source": [
    "println(\"c: $(sol.c)\")\n",
    "println(\"z_hat: $(sol.z_hat)\")\n",
    "println(\"Omega: $(sol.Ω)\")\n",
    "println(\"lambda: $(sol.λ_ii)\")\n",
    "println(\"U_bar: $(sol.U_bar)\")\n",
    "U_bar_partial = sol.U_bar;\n",
    "ACR_partial = 100*(-1/params.θ)*log(sol.λ_ii/stationary_baseline.λ_ii)\n",
    "dc = sol.c - stationary_baseline.c\n",
    "dc_frac = dc/ stationary_baseline.c\n",
    "println(\"ACR_partial: $(ACR_partial)\")\n",
    "println(\"dc: $(dc)\")\n",
    "println(\"dc_frac: $(dc_frac)\")\n",
    "@show d_U_1 = 1/(stationary_baseline.c * params.ρ) # constant\n",
    "@show d_U_bar - d_U_1  * dc\n",
    "@show d_U_Comp1_frac=100*(d_U_bar-d_U_1*dc)/d_U_bar;"
   ]
  },
  {
   "cell_type": "markdown",
   "metadata": {},
   "source": [
    "### Decomposition 2: $\\frac{\\partial c}{\\partial g}$ (change in consumption when changing g, holding fixed Omega, zhat, d)"
   ]
  },
  {
   "cell_type": "code",
   "execution_count": null,
   "metadata": {},
   "outputs": [],
   "source": [
    "sol = steady_state_from_g(1.01*stationary_baseline.g, stationary_baseline.z_hat, stationary_baseline.Ω, params_baseline, settings);"
   ]
  },
  {
   "cell_type": "code",
   "execution_count": null,
   "metadata": {},
   "outputs": [],
   "source": [
    "println(\"c: $(sol.c)\")\n",
    "println(\"z_hat: $(sol.z_hat)\")\n",
    "println(\"Omega: $(sol.Ω)\")\n",
    "println(\"lambda: $(sol.λ_ii)\")\n",
    "println(\"U_bar: $(sol.U_bar)\")\n",
    "U_bar_partial = sol.U_bar;\n",
    "ACR_partial = 100*(-1/params.θ)*log(sol.λ_ii/stationary_baseline.λ_ii)\n",
    "println(\"ACR_partial: $(ACR_partial)\")\n",
    "@show dc_frac = (sol.c - stationary_baseline.c)/ stationary_baseline.c;"
   ]
  },
  {
   "cell_type": "markdown",
   "metadata": {},
   "source": [
    "### Decomposition 3: $\\frac{\\partial g}{\\partial d}$ (change in g when changing d, holding fixed Omega, zhat, and c)"
   ]
  },
  {
   "cell_type": "code",
   "execution_count": null,
   "metadata": {},
   "outputs": [],
   "source": [
    "sol = steady_state_from_c(stationary_baseline.c, stationary_baseline.z_hat, stationary_baseline.Ω, params_counterfactual, settings);"
   ]
  },
  {
   "cell_type": "code",
   "execution_count": null,
   "metadata": {},
   "outputs": [],
   "source": [
    "println(\"g: $(sol.g)\")\n",
    "println(\"c: $(sol.c)\")\n",
    "println(\"z_hat: $(sol.z_hat)\")\n",
    "println(\"Omega: $(sol.Ω)\")\n",
    "println(\"lambda: $(sol.λ_ii)\")\n",
    "println(\"U_bar: $(sol.U_bar)\")\n",
    "U_bar_partial = sol.U_bar;\n",
    "ACR_partial = 100*(-1/params.θ)*log(sol.λ_ii/stationary_baseline.λ_ii)\n",
    "println(\"ACR_partial: $(ACR_partial)\")\n",
    "@show dc_frac = (sol.c - stationary_baseline.c)/ stationary_baseline.c\n",
    "@show dg_frac = (sol.g - stationary_baseline.g) / stationary_baseline.g;"
   ]
  },
  {
   "cell_type": "markdown",
   "metadata": {},
   "source": [
    "### Decomposition 4: $\\frac{\\partial g}{\\partial c}$ (change in g when changing c, holding fixed Omega, zhat, and d)"
   ]
  },
  {
   "cell_type": "code",
   "execution_count": null,
   "metadata": {},
   "outputs": [],
   "source": [
    "sol = steady_state_from_c(stationary_baseline.c*1.01, stationary_baseline.z_hat, stationary_baseline.Ω, params_baseline, settings);"
   ]
  },
  {
   "cell_type": "code",
   "execution_count": null,
   "metadata": {},
   "outputs": [],
   "source": [
    "println(\"g: $(sol.g)\")\n",
    "println(\"c: $(sol.c)\")\n",
    "println(\"z_hat: $(sol.z_hat)\")\n",
    "println(\"Omega: $(sol.Ω)\")\n",
    "println(\"lambda: $(sol.λ_ii)\")\n",
    "println(\"U_bar: $(sol.U_bar)\")\n",
    "U_bar_partial = sol.U_bar;\n",
    "ACR_partial = 100*(-1/params.θ)*log(sol.λ_ii/stationary_baseline.λ_ii)\n",
    "println(\"ACR_partial: $(ACR_partial)\")\n",
    "@show dc_frac = (sol.c - stationary_baseline.c)/ stationary_baseline.c\n",
    "@show dg_frac = (sol.g - stationary_baseline.g) / stationary_baseline.g;"
   ]
  },
  {
   "cell_type": "markdown",
   "metadata": {},
   "source": [
    "### Total Derivative"
   ]
  },
  {
   "cell_type": "code",
   "execution_count": null,
   "metadata": {},
   "outputs": [],
   "source": [
    "D = total_derivative(params_baseline);"
   ]
  },
  {
   "cell_type": "code",
   "execution_count": null,
   "metadata": {},
   "outputs": [],
   "source": [
    "@unpack U_1, U_2, ∂_c_d, ∂_c_g, ∂_g_c, ∂_g_d, d_U_d, total_decomp, check, planner_0, planner_0_frac, decomp_1_frac, decomp_2_frac, decomp_3_frac, decomp_4_frac = D;"
   ]
  },
  {
   "cell_type": "code",
   "execution_count": null,
   "metadata": {},
   "outputs": [],
   "source": [
    "@show U_1\n",
    "@show U_2\n",
    "@show ∂_c_d\n",
    "@show ∂_c_g\n",
    "@show ∂_g_d\n",
    "@show ∂_g_c\n",
    "@show d_U_d\n",
    "@show total_decomp\n",
    "@show check\n",
    "@show planner_0\n",
    "@show planner_0_frac\n",
    "@show decomp_1_frac\n",
    "@show decomp_2_frac\n",
    "@show decomp_3_frac\n",
    "@show decomp_4_frac;"
   ]
  }
 ],
 "metadata": {
  "kernelspec": {
   "display_name": "Julia 1.3.0",
   "language": "julia",
   "name": "julia-1.3"
  },
  "language_info": {
   "file_extension": ".jl",
   "mimetype": "application/julia",
   "name": "julia",
   "version": "1.3.0"
  }
 },
 "nbformat": 4,
 "nbformat_minor": 4
}
