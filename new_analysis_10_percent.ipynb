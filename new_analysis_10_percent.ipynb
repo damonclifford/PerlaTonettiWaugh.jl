{
 "cells": [
  {
   "cell_type": "code",
   "execution_count": 27,
   "metadata": {},
   "outputs": [],
   "source": [
    "using Revise, PerlaTonettiWaugh, Parameters"
   ]
  },
  {
   "cell_type": "markdown",
   "metadata": {},
   "source": [
    "### Baseline Steady State"
   ]
  },
  {
   "cell_type": "code",
   "execution_count": 28,
   "metadata": {},
   "outputs": [],
   "source": [
    "d_baseline = 3.0426 # d_0\n",
    "params = parameter_defaults(γ = 1)\n",
    "settings = settings_defaults();\n",
    "params_baseline = merge(params, (d = d_baseline,));"
   ]
  },
  {
   "cell_type": "code",
   "execution_count": 29,
   "metadata": {},
   "outputs": [
    {
     "name": "stdout",
     "output_type": "stream",
     "text": [
      "g: 0.006741737930000616\n",
      "z_hat: 1.9775524589786164\n",
      "Omega: 0.96128722109579\n",
      "c: 1.0332687191739103\n",
      "U_bar: 16.10681381780279\n",
      "lambda: 0.8956061037770533\n",
      "y: 1.0332687191739103\n"
     ]
    }
   ],
   "source": [
    "stationary_baseline = stationary_algebraic(params_baseline, settings);\n",
    "println(\"g: $(stationary_baseline.g)\")\n",
    "println(\"z_hat: $(stationary_baseline.z_hat)\")\n",
    "println(\"Omega: $(stationary_baseline.Ω)\")\n",
    "println(\"c: $(stationary_baseline.c)\")\n",
    "println(\"U_bar: $(stationary_baseline.U_bar)\")\n",
    "println(\"lambda: $(stationary_baseline.λ_ii)\")\n",
    "println(\"y: $(stationary_baseline.y)\");"
   ]
  },
  {
   "cell_type": "markdown",
   "metadata": {},
   "source": [
    "### Counterfactual Steady State"
   ]
  },
  {
   "cell_type": "code",
   "execution_count": 30,
   "metadata": {},
   "outputs": [],
   "source": [
    "d_counterfactual = 1 + 0.9*(d_baseline - 1);\n",
    "params_counterfactual = merge(params, (d = d_counterfactual,))\n",
    "stationary_counterfactual = stationary_algebraic(params_counterfactual, settings);"
   ]
  },
  {
   "cell_type": "code",
   "execution_count": 31,
   "metadata": {},
   "outputs": [
    {
     "name": "stdout",
     "output_type": "stream",
     "text": [
      "g: 0.008570416910077826\n",
      "z_hat: 1.8396755164478353\n",
      "Omega: 0.9094073342262129\n",
      "c: 1.0216343723881391\n",
      "U_bar: 19.536172704263162\n",
      "lambda: 0.8574023485080937\n",
      "y: 1.0216343723881391\n",
      "ACR_full: 0.8715543750367827\n",
      "d_U_bar = stationary_counterfactual.U_bar - stationary_baseline.U_bar = 3.4293588864603706\n"
     ]
    }
   ],
   "source": [
    "println(\"g: $(stationary_counterfactual.g)\")\n",
    "println(\"z_hat: $(stationary_counterfactual.z_hat)\")\n",
    "println(\"Omega: $(stationary_counterfactual.Ω)\")\n",
    "println(\"c: $(stationary_counterfactual.c)\")\n",
    "println(\"U_bar: $(stationary_counterfactual.U_bar)\")\n",
    "println(\"lambda: $(stationary_counterfactual.λ_ii)\")\n",
    "println(\"y: $(stationary_counterfactual.y)\")\n",
    "ACR_full = 100*(-1/params.θ)*log(stationary_counterfactual.λ_ii/stationary_baseline.λ_ii)\n",
    "println(\"ACR_full: $(ACR_full)\");\n",
    "@show d_U_bar = stationary_counterfactual.U_bar - stationary_baseline.U_bar;"
   ]
  },
  {
   "cell_type": "markdown",
   "metadata": {},
   "source": [
    "### Decomposition 1: $\\frac{\\partial c}{\\partial d}$ (change in consumption when changing trade cost, holding fixed Omega, zhat, g)"
   ]
  },
  {
   "cell_type": "code",
   "execution_count": 32,
   "metadata": {},
   "outputs": [],
   "source": [
    "sol = steady_state_from_g(stationary_baseline.g, stationary_baseline.z_hat, stationary_baseline.Ω, params_counterfactual, settings);"
   ]
  },
  {
   "cell_type": "code",
   "execution_count": 33,
   "metadata": {},
   "outputs": [
    {
     "name": "stdout",
     "output_type": "stream",
     "text": [
      "c: 1.0413233287620338\n",
      "z_hat: 1.9775524589786164\n",
      "Omega: 0.96128722109579\n",
      "lambda: 0.880624346217279\n",
      "U_bar: 16.467978690552677\n",
      "ACR_partial: 0.3372697778810855\n",
      "dc: 0.00805460958812354\n",
      "dc_frac: 0.007795270909355635\n",
      "d_U_1 = 1 / (stationary_baseline.c * params.ρ) = 45.01406753527041\n",
      "d_U_bar - d_U_1 * dc = 3.066788146490341\n",
      "d_U_Comp1_frac = (100 * (d_U_bar - d_U_1 * dc)) / d_U_bar = 89.42744833731128\n"
     ]
    }
   ],
   "source": [
    "println(\"c: $(sol.c)\")\n",
    "println(\"z_hat: $(sol.z_hat)\")\n",
    "println(\"Omega: $(sol.Ω)\")\n",
    "println(\"lambda: $(sol.λ_ii)\")\n",
    "println(\"U_bar: $(sol.U_bar)\")\n",
    "U_bar_partial = sol.U_bar;\n",
    "ACR_partial = 100*(-1/params.θ)*log(sol.λ_ii/stationary_baseline.λ_ii)\n",
    "dc = sol.c - stationary_baseline.c\n",
    "dc_frac = dc/ stationary_baseline.c\n",
    "println(\"ACR_partial: $(ACR_partial)\")\n",
    "println(\"dc: $(dc)\")\n",
    "println(\"dc_frac: $(dc_frac)\")\n",
    "@show d_U_1 = 1/(stationary_baseline.c * params.ρ) # constant\n",
    "@show d_U_bar - d_U_1  * dc\n",
    "@show d_U_Comp1_frac=100*(d_U_bar-d_U_1*dc)/d_U_bar;"
   ]
  },
  {
   "cell_type": "markdown",
   "metadata": {},
   "source": [
    "### Decomposition 2: $\\frac{\\partial c}{\\partial g}$ (change in consumption when changing g, holding fixed Omega, zhat, d)"
   ]
  },
  {
   "cell_type": "code",
   "execution_count": 34,
   "metadata": {},
   "outputs": [],
   "source": [
    "sol = steady_state_from_g(1.1*stationary_baseline.g, stationary_baseline.z_hat, stationary_baseline.Ω, params_baseline, settings);"
   ]
  },
  {
   "cell_type": "code",
   "execution_count": 35,
   "metadata": {},
   "outputs": [
    {
     "name": "stdout",
     "output_type": "stream",
     "text": [
      "c: 1.0289156158647705\n",
      "z_hat: 1.9775524589786164\n",
      "Omega: 0.96128722109579\n",
      "lambda: 0.8956061037770533\n",
      "U_bar: 17.368910426888934\n",
      "ACR_partial: -0.0\n",
      "dc_frac = (sol.c - stationary_baseline.c) / stationary_baseline.c = -0.004212944056430943\n"
     ]
    }
   ],
   "source": [
    "println(\"c: $(sol.c)\")\n",
    "println(\"z_hat: $(sol.z_hat)\")\n",
    "println(\"Omega: $(sol.Ω)\")\n",
    "println(\"lambda: $(sol.λ_ii)\")\n",
    "println(\"U_bar: $(sol.U_bar)\")\n",
    "U_bar_partial = sol.U_bar;\n",
    "ACR_partial = 100*(-1/params.θ)*log(sol.λ_ii/stationary_baseline.λ_ii)\n",
    "println(\"ACR_partial: $(ACR_partial)\")\n",
    "@show dc_frac = (sol.c - stationary_baseline.c)/ stationary_baseline.c;"
   ]
  },
  {
   "cell_type": "markdown",
   "metadata": {},
   "source": [
    "### Decomposition 3: $\\frac{\\partial g}{\\partial d}$ (change in g when changing d, holding fixed Omega, zhat, and c)"
   ]
  },
  {
   "cell_type": "code",
   "execution_count": 36,
   "metadata": {},
   "outputs": [],
   "source": [
    "sol = steady_state_from_c(stationary_baseline.c, stationary_baseline.z_hat, stationary_baseline.Ω, params_counterfactual, settings);"
   ]
  },
  {
   "cell_type": "code",
   "execution_count": 37,
   "metadata": {},
   "outputs": [
    {
     "name": "stdout",
     "output_type": "stream",
     "text": [
      "g: 0.007979522517952725\n",
      "c: 1.0332687191739103\n",
      "z_hat: 1.9775524589786164\n",
      "Omega: 0.96128722109579\n",
      "lambda: 0.880624346217279\n",
      "U_bar: 18.784552244957165\n",
      "ACR_partial: 0.3372697778810855\n",
      "dc_frac = (sol.c - stationary_baseline.c) / stationary_baseline.c = 0.0\n",
      "dg_frac = (sol.g - stationary_baseline.g) / stationary_baseline.g = 0.18360022308846946\n"
     ]
    }
   ],
   "source": [
    "println(\"g: $(sol.g)\")\n",
    "println(\"c: $(sol.c)\")\n",
    "println(\"z_hat: $(sol.z_hat)\")\n",
    "println(\"Omega: $(sol.Ω)\")\n",
    "println(\"lambda: $(sol.λ_ii)\")\n",
    "println(\"U_bar: $(sol.U_bar)\")\n",
    "U_bar_partial = sol.U_bar;\n",
    "ACR_partial = 100*(-1/params.θ)*log(sol.λ_ii/stationary_baseline.λ_ii)\n",
    "println(\"ACR_partial: $(ACR_partial)\")\n",
    "@show dc_frac = (sol.c - stationary_baseline.c)/ stationary_baseline.c\n",
    "@show dg_frac = (sol.g - stationary_baseline.g) / stationary_baseline.g;"
   ]
  },
  {
   "cell_type": "markdown",
   "metadata": {},
   "source": [
    "### Decomposition 4: $\\frac{\\partial g}{\\partial c}$ (change in g when changing c, holding fixed Omega, zhat, and d)"
   ]
  },
  {
   "cell_type": "code",
   "execution_count": 38,
   "metadata": {},
   "outputs": [],
   "source": [
    "sol = steady_state_from_c(stationary_baseline.c*1.1, stationary_baseline.z_hat, stationary_baseline.Ω, params_baseline, settings);"
   ]
  },
  {
   "cell_type": "code",
   "execution_count": 39,
   "metadata": {},
   "outputs": [
    {
     "name": "stdout",
     "output_type": "stream",
     "text": [
      "g: -0.009260700838939557\n",
      "c: 1.1365955910913015\n",
      "z_hat: 1.9775524589786164\n",
      "Omega: 0.96128722109579\n",
      "lambda: 0.8956061037770533\n",
      "U_bar: -14.078734918048344\n",
      "ACR_partial: -0.0\n",
      "dc_frac = (sol.c - stationary_baseline.c) / stationary_baseline.c = 0.10000000000000017\n",
      "dg_frac = (sol.g - stationary_baseline.g) / stationary_baseline.g = -2.373637025807485\n"
     ]
    }
   ],
   "source": [
    "println(\"g: $(sol.g)\")\n",
    "println(\"c: $(sol.c)\")\n",
    "println(\"z_hat: $(sol.z_hat)\")\n",
    "println(\"Omega: $(sol.Ω)\")\n",
    "println(\"lambda: $(sol.λ_ii)\")\n",
    "println(\"U_bar: $(sol.U_bar)\")\n",
    "U_bar_partial = sol.U_bar;\n",
    "ACR_partial = 100*(-1/params.θ)*log(sol.λ_ii/stationary_baseline.λ_ii)\n",
    "println(\"ACR_partial: $(ACR_partial)\")\n",
    "@show dc_frac = (sol.c - stationary_baseline.c)/ stationary_baseline.c\n",
    "@show dg_frac = (sol.g - stationary_baseline.g) / stationary_baseline.g;"
   ]
  },
  {
   "cell_type": "markdown",
   "metadata": {},
   "source": [
    "### Total Derivative"
   ]
  },
  {
   "cell_type": "code",
   "execution_count": 40,
   "metadata": {},
   "outputs": [],
   "source": [
    "D = total_derivative(params_baseline, 0.1);"
   ]
  },
  {
   "cell_type": "code",
   "execution_count": 41,
   "metadata": {},
   "outputs": [],
   "source": [
    "@unpack U_1, U_2, ∂_c_d, ∂_c_g, ∂_g_c, ∂_g_d, d_U_d, total_decomp, check, planner_0, planner_0_frac, decomp_1_frac, decomp_2_frac, decomp_3_frac, decomp_4_frac = D;"
   ]
  },
  {
   "cell_type": "code",
   "execution_count": 42,
   "metadata": {},
   "outputs": [
    {
     "name": "stdout",
     "output_type": "stream",
     "text": [
      "U_1 = 45.01406753527041\n",
      "U_2 = 2163.331530557058\n",
      "∂_c_d = 0.00805460958812354\n",
      "∂_c_g = -0.004353103309139739\n",
      "∂_g_d = 0.0012377845879521093\n",
      "∂_g_c = -0.016002438768940173\n",
      "d_U_d = 3.4293588864603706\n",
      "total_decomp = 2.761227472885445\n",
      "check = -0.6681314135749257\n",
      "planner_0 = 2.67749588216726\n",
      "planner_0_frac = 0.9696759533430666\n",
      "decomp_1_frac = 0.131307812750084\n",
      "decomp_2_frac = -8.783955305960874e-5\n",
      "decomp_3_frac = 0.9697637928961261\n",
      "decomp_4_frac = -0.1009837660931506\n"
     ]
    }
   ],
   "source": [
    "@show U_1\n",
    "@show U_2\n",
    "@show ∂_c_d\n",
    "@show ∂_c_g\n",
    "@show ∂_g_d\n",
    "@show ∂_g_c\n",
    "@show d_U_d\n",
    "@show total_decomp\n",
    "@show check\n",
    "@show planner_0\n",
    "@show planner_0_frac\n",
    "@show decomp_1_frac\n",
    "@show decomp_2_frac\n",
    "@show decomp_3_frac\n",
    "@show decomp_4_frac;"
   ]
  }
 ],
 "metadata": {
  "kernelspec": {
   "display_name": "Julia 1.3.0",
   "language": "julia",
   "name": "julia-1.3"
  },
  "language_info": {
   "file_extension": ".jl",
   "mimetype": "application/julia",
   "name": "julia",
   "version": "1.3.0"
  }
 },
 "nbformat": 4,
 "nbformat_minor": 4
}
