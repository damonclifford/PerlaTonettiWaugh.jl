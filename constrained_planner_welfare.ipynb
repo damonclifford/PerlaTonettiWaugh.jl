{
 "cells": [
  {
   "cell_type": "code",
   "execution_count": 1,
   "metadata": {},
   "outputs": [],
   "source": [
    "using PerlaTonettiWaugh, Parameters, Plots, DataFrames, Optim, LaTeXStrings"
   ]
  },
  {
   "cell_type": "code",
   "execution_count": 2,
   "metadata": {},
   "outputs": [],
   "source": [
    "params_minimal = parameter_defaults(γ = 1)\n",
    "settings = settings_defaults();"
   ]
  },
  {
   "cell_type": "code",
   "execution_count": 3,
   "metadata": {},
   "outputs": [
    {
     "data": {
      "text/plain": [
       "constrained_equilibrium (generic function with 1 method)"
      ]
     },
     "execution_count": 3,
     "metadata": {},
     "output_type": "execute_result"
    }
   ],
   "source": [
    "function constrained_equilibrium(ζ_p, params)\n",
    "    χ_p = params_minimal.ζ/ζ_p\n",
    "    params_constrained = merge(params, (ζ_p = ζ_p, χ_p = χ_p))\n",
    "    CE_constrained = stationary_numerical(params_constrained, settings) # competitive equilibrium\n",
    "end"
   ]
  },
  {
   "cell_type": "markdown",
   "metadata": {},
   "source": [
    "### Experiment 1: (Constrained) Planner's Welfare for Baseline Parameters "
   ]
  },
  {
   "cell_type": "code",
   "execution_count": null,
   "metadata": {},
   "outputs": [],
   "source": [
    "d_0 = 3.0426\n",
    "d_baseline = d_0\n",
    "params_baseline = merge(params_minimal, (d = d_baseline,));\n",
    "\n",
    "ζ_range_baseline = params_baseline.ζ:0.005:params_baseline.ζ+0.005\n",
    "equilibria_baseline = [constrained_equilibrium(x, params_baseline) for x in ζ_range_baseline]\n",
    "\n",
    "welfares_baseline = [sol.U_bar for sol in equilibria_baseline]\n",
    "cs_baseline = [sol.c for sol in equilibria_baseline]\n",
    "gs_baseline = [sol.g for sol in equilibria_baseline];"
   ]
  },
  {
   "cell_type": "code",
   "execution_count": null,
   "metadata": {},
   "outputs": [],
   "source": [
    "plot(ζ_range_baseline, welfares_baseline, title = \"Baseline Welfares for Constrained Planner\", xlabel = L\"\\zeta_p\", ylabel = L\"\\bar{U}\", legend = false)\n",
    "vline!([1.0])"
   ]
  },
  {
   "cell_type": "code",
   "execution_count": null,
   "metadata": {},
   "outputs": [],
   "source": [
    "plot(ζ_range_baseline, cs_baseline, title = \"Baseline cs for Constrained Planner\", xlabel = L\"\\zeta_p\", ylabel = L\"c\", legend = false)\n",
    "vline!([1.0])"
   ]
  },
  {
   "cell_type": "code",
   "execution_count": null,
   "metadata": {},
   "outputs": [],
   "source": [
    "plot(ζ_range_baseline, gs_baseline, title = \"Baseline gs for Constrained Planner\", xlabel = L\"\\zeta_p\", ylabel = L\"g\", legend = false)\n",
    "vline!([1.0])"
   ]
  },
  {
   "cell_type": "markdown",
   "metadata": {},
   "source": [
    "### Experiment 2: (Constrained) Planner's Welfare for Lower Trade Costs"
   ]
  },
  {
   "cell_type": "code",
   "execution_count": null,
   "metadata": {},
   "outputs": [],
   "source": [
    "d_T =  2.83834\n",
    "d_lower = d_T\n",
    "params_lower = merge(params_minimal, (d = d_lower,));\n",
    "\n",
    "ζ_range_lower = params_lower.ζ-0.5:0.01:params_lower.ζ+0.85\n",
    "equilibria_lower = [constrained_equilibrium(x, params_lower) for x in ζ_range_lower]\n",
    "\n",
    "welfares_lower = [sol.U_bar for sol in equilibria_lower]\n",
    "cs_lower = [sol.c for sol in equilibria_lower]\n",
    "gs_lower = [sol.g for sol in equilibria_lower];"
   ]
  },
  {
   "cell_type": "code",
   "execution_count": null,
   "metadata": {},
   "outputs": [],
   "source": [
    "plot(ζ_range_lower, welfares_lower, title = \"Welfares for Constrained Planner, Lower Trade Costs\", xlabel = L\"\\zeta_p\", ylabel = L\"\\bar{U}\", legend = false)\n",
    "vline!([1.0])"
   ]
  },
  {
   "cell_type": "code",
   "execution_count": null,
   "metadata": {},
   "outputs": [],
   "source": [
    "plot(ζ_range_lower, cs_lower, title = \"cs for Constrained Planner, Lower Trade Costs\", xlabel = L\"\\zeta_p\", ylabel = L\"c\", legend = false)\n",
    "vline!([1.0])"
   ]
  },
  {
   "cell_type": "code",
   "execution_count": null,
   "metadata": {},
   "outputs": [],
   "source": [
    "plot(ζ_range_lower, gs_lower, title = \"gs for Constrained Planner, Lower Trade Costs\", xlabel = L\"\\zeta_p\", ylabel = L\"g\", legend = false)\n",
    "vline!([1.0])"
   ]
  }
 ],
 "metadata": {
  "kernelspec": {
   "display_name": "Julia 1.3.0",
   "language": "julia",
   "name": "julia-1.3"
  },
  "language_info": {
   "file_extension": ".jl",
   "mimetype": "application/julia",
   "name": "julia",
   "version": "1.3.0"
  }
 },
 "nbformat": 4,
 "nbformat_minor": 4
}
