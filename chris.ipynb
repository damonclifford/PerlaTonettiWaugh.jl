{
 "cells": [
  {
   "cell_type": "code",
   "execution_count": 1,
   "metadata": {},
   "outputs": [
    {
     "name": "stderr",
     "output_type": "stream",
     "text": [
      "┌ Info: Precompiling PerlaTonettiWaugh [d2cacc76-b06b-11e8-362b-f18d03a16405]\n",
      "└ @ Base loading.jl:1273\n",
      "┌ Warning: Module BandedMatrices with build ID 176192222987157 is missing from the cache.\n",
      "│ This may mean BandedMatrices [aae01518-5342-5314-be14-df237901396f] does not support precompilation but is imported by a module that does.\n",
      "└ @ Base loading.jl:1011\n",
      "┌ Warning: Module BandedMatrices with build ID 176192222987157 is missing from the cache.\n",
      "│ This may mean BandedMatrices [aae01518-5342-5314-be14-df237901396f] does not support precompilation but is imported by a module that does.\n",
      "└ @ Base loading.jl:1011\n",
      "┌ Warning: Replacing module `BandedMatrices`\n",
      "└ @ Base loading.jl:942\n"
     ]
    }
   ],
   "source": [
    "using PerlaTonettiWaugh"
   ]
  },
  {
   "cell_type": "code",
   "execution_count": 3,
   "metadata": {},
   "outputs": [
    {
     "data": {
      "text/plain": [
       "3.0426"
      ]
     },
     "execution_count": 3,
     "metadata": {},
     "output_type": "execute_result"
    }
   ],
   "source": [
    "params = parameter_defaults(); # without d \n",
    "d = params.d_0 # we stored d_0 and d_T in here for convenience"
   ]
  },
  {
   "cell_type": "code",
   "execution_count": 5,
   "metadata": {},
   "outputs": [],
   "source": [
    "params_baseline = merge(params, (d = d,));\n",
    "sol = total_derivative(params_baseline);"
   ]
  },
  {
   "cell_type": "code",
   "execution_count": 6,
   "metadata": {},
   "outputs": [
    {
     "name": "stdout",
     "output_type": "stream",
     "text": [
      "check = 1.0000003786973666\n",
      "d_U_d_total = -13.494611985965818\n",
      "U_1 = 45.01406753527041\n",
      "U_2 = 2163.331530557058\n",
      "ACR = -3.500154791150509e-6\n",
      "∂_fc_d = -0.03545220982951906\n",
      "∂_fc_g = -6.456945307541626\n",
      "∂_fc_zhat = -4.685141164303592e-8\n",
      "∂_fc_Omega = 0.1726528775453408\n",
      "∂_g_d = -0.007250403405982174\n",
      "∂_zhat_d = 0.6730898073517649\n",
      "∂_Omega_d = 0.21602496177753036\n",
      "total_decomp = -13.49461709633984\n",
      "decomp_fc_d = -0.03545220982951906\n",
      "decomp_fc_Omega_Omega_d = 0.037297331272512876\n",
      "decomp_fc_zhat_zhat_d = -3.153520763696928e-8\n",
      "decomp_fc_g_g_d = 0.04681545825004042\n",
      "decomp_g_d = -0.007250403405982174\n",
      "planner_0_g = -13.577672098057572\n",
      "planner_0_Omega = 1.6789045887862477\n",
      "planner_0_zhat = -1.4195279663093105e-6\n",
      "U1_partial_fc_d_frac = 0.1182581288633519\n",
      "U1_decomp_fc_Omega_Omega_d_frac = -0.12441291048129247\n",
      "U1_decomp_fc_zhat_zhat_d_frac = 1.0519216337707947e-7\n",
      "U1_decomp_fc_g_g_d_frac = -0.15616257833158761\n",
      "U2_decomp_g_d_frac = 1.1623172547573648\n",
      "planner_0_g_frac = 1.0061546764257772\n",
      "planner_0_Omega_frac = -0.12441291048129248\n",
      "planner_0_zhat_frac = 1.0519216337707948e-7\n"
     ]
    }
   ],
   "source": [
    "for (key, value) in pairs(sol)\n",
    "    println(\"$key = $value\")\n",
    "end"
   ]
  },
  {
   "cell_type": "code",
   "execution_count": null,
   "metadata": {},
   "outputs": [],
   "source": []
  }
 ],
 "metadata": {
  "kernelspec": {
   "display_name": "Julia 1.3.0",
   "language": "julia",
   "name": "julia-1.3"
  },
  "language_info": {
   "file_extension": ".jl",
   "mimetype": "application/julia",
   "name": "julia",
   "version": "1.3.0"
  }
 },
 "nbformat": 4,
 "nbformat_minor": 4
}
