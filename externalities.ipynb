{
 "cells": [
  {
   "cell_type": "code",
   "execution_count": 2,
   "metadata": {},
   "outputs": [],
   "source": [
    "using PerlaTonettiWaugh, Parameters, Plots"
   ]
  },
  {
   "cell_type": "code",
   "execution_count": 3,
   "metadata": {},
   "outputs": [],
   "source": [
    "d_baseline = 3.0426 # d_0\n",
    "d_open = 2.83834 # d_T\n",
    "params = parameter_defaults(γ = 1)\n",
    "settings = settings_defaults();\n",
    "params_baseline = merge(params, (d = d_baseline,))\n",
    "params_open = merge(params, (d = d_open,));"
   ]
  },
  {
   "cell_type": "markdown",
   "metadata": {},
   "source": [
    "### Baseline Case"
   ]
  },
  {
   "cell_type": "code",
   "execution_count": 4,
   "metadata": {},
   "outputs": [
    {
     "name": "stdout",
     "output_type": "stream",
     "text": [
      "g: 0.006741737930000616\n",
      "z_hat: 1.9775524589786164\n",
      "Omega: 0.96128722109579\n",
      "c: 1.0332687191739103\n",
      "U_bar: 16.10681381780279\n",
      "lambda: 0.8956061037770533\n",
      "y: 1.0332687191739103\n"
     ]
    }
   ],
   "source": [
    "stationary_baseline = stationary_algebraic(params_baseline, settings);\n",
    "println(\"g: $(stationary_baseline.g)\")\n",
    "println(\"z_hat: $(stationary_baseline.z_hat)\")\n",
    "println(\"Omega: $(stationary_baseline.Ω)\")\n",
    "println(\"c: $(stationary_baseline.c)\")\n",
    "println(\"U_bar: $(stationary_baseline.U_bar)\")\n",
    "println(\"lambda: $(stationary_baseline.λ_ii)\")\n",
    "println(\"y: $(stationary_baseline.y)\");"
   ]
  },
  {
   "cell_type": "markdown",
   "metadata": {},
   "source": [
    "### Experiment Function"
   ]
  },
  {
   "cell_type": "code",
   "execution_count": 5,
   "metadata": {},
   "outputs": [
    {
     "data": {
      "text/plain": [
       "externality_experiment (generic function with 1 method)"
      ]
     },
     "execution_count": 5,
     "metadata": {},
     "output_type": "execute_result"
    }
   ],
   "source": [
    "function externality_experiment(d)\n",
    "    println(\"d = $d\")\n",
    "    println(\"**************************\")\n",
    "    println(\"stationary using supplied d\")\n",
    "    println(\"**************************\")\n",
    "    params_varied = merge(params, (d = d,))\n",
    "    stationary_varied = stationary_algebraic(params_varied, settings);\n",
    "    println(\"g: $(stationary_varied.g)\")\n",
    "    println(\"z_hat: $(stationary_varied.z_hat)\")\n",
    "    println(\"Omega: $(stationary_varied.Ω)\")\n",
    "    println(\"c: $(stationary_varied.c)\")\n",
    "    println(\"U_bar: $(stationary_varied.U_bar)\")\n",
    "    println(\"lambda: $(stationary_varied.λ_ii)\")\n",
    "    println(\"y: $(stationary_varied.y)\")\n",
    "    ACR_full = 100*(-1/params.θ)*log(stationary_varied.λ_ii/stationary_baseline.λ_ii)\n",
    "    println(\"ACR_full: $(ACR_full)\")\n",
    "\n",
    "    println(\"**************************\")\n",
    "    println(\"stationary using baseline g and supplied d\")\n",
    "    println(\"**************************\")\n",
    "    d_U_bar = stationary_varied.U_bar - stationary_baseline.U_bar\n",
    "    sol = stationary_algebraic_given_g(stationary_baseline.g, params_varied, settings) # i.e. parameters using inputted d, not d_0\n",
    "    println(\"c: $(sol.c)\")\n",
    "    println(\"z_hat: $(sol.z_hat)\")\n",
    "    println(\"Omega: $(sol.Ω)\")\n",
    "    println(\"lambda: $(sol.λ_ii)\")\n",
    "    println(\"U_bar: $(sol.U_bar)\")\n",
    "    U_bar_partial = sol.U_bar;\n",
    "    ACR_partial = 100*(-1/params.θ)*log(sol.λ_ii/stationary_baseline.λ_ii)\n",
    "    println(\"ACR_partial: $(ACR_partial)\")\n",
    "    \n",
    "    println(\"**************************\")\n",
    "    println(\"welfare calculations\")\n",
    "    println(\"**************************\")\n",
    "    @show stationary_varied.U_bar - U_bar_partial   \n",
    "    @show c_partial = sol.c\n",
    "    @show dc = c_partial - stationary_baseline.c\n",
    "    @show dc_partial_frac = 100*(dc)/stationary_baseline.c \n",
    "    @show dg_frac = 100*(stationary_varied.g - stationary_baseline.g)/stationary_baseline.g\n",
    "    @show d_U_1 = 1/(stationary_baseline.c * params.ρ) # constant\n",
    "    @show d_U_bar - d_U_1  * dc\n",
    "    @show d_U_Comp1_frac=100*(d_U_bar-d_U_1*dc)/d_U_bar\n",
    "    return nothing\n",
    "end"
   ]
  },
  {
   "cell_type": "markdown",
   "metadata": {},
   "source": [
    "### Experiment #1 (d_T)"
   ]
  },
  {
   "cell_type": "code",
   "execution_count": 6,
   "metadata": {},
   "outputs": [
    {
     "name": "stdout",
     "output_type": "stream",
     "text": [
      "d = 2.83834\n",
      "**************************\n",
      "stationary using supplied d\n",
      "**************************\n",
      "g: 0.00857041691007787\n",
      "z_hat: 1.8396755164478342\n",
      "Omega: 0.9094073342262116\n",
      "c: 1.0216343723881387\n",
      "U_bar: 19.536172704263237\n",
      "lambda: 0.8574023485080934\n",
      "y: 1.0216343723881387\n",
      "ACR_full: 0.8715543750367896\n",
      "**************************\n",
      "stationary using baseline g and supplied d\n",
      "**************************\n",
      "c: 1.0351692353020883\n",
      "z_hat: 1.844792692571276\n",
      "Omega: 0.9224702544236238\n",
      "lambda: 0.8583605161450267\n",
      "U_bar: 16.192285198434874\n",
      "ACR_partial: 0.8492244146437492\n",
      "**************************\n",
      "welfare calculations\n",
      "**************************\n",
      "stationary_varied.U_bar - U_bar_partial = 3.343887505828363\n",
      "c_partial = sol.c = 1.0351692353020883\n",
      "dc = c_partial - stationary_baseline.c = 0.001900516128177987\n",
      "dc_partial_frac = (100dc) / stationary_baseline.c = 0.18393241689320022\n",
      "dg_frac = (100 * (stationary_varied.g - stationary_baseline.g)) / stationary_baseline.g = 27.124741410366376\n",
      "d_U_1 = 1 / (stationary_baseline.c * params.ρ) = 45.01406753527041\n",
      "d_U_bar - d_U_1 * dc = 3.3438089251147707\n",
      "d_U_Comp1_frac = (100 * (d_U_bar - d_U_1 * dc)) / d_U_bar = 97.50536574974882\n"
     ]
    }
   ],
   "source": [
    "externality_experiment(d_open)"
   ]
  },
  {
   "cell_type": "markdown",
   "metadata": {},
   "source": [
    "### Experiment #2 "
   ]
  },
  {
   "cell_type": "code",
   "execution_count": 7,
   "metadata": {},
   "outputs": [
    {
     "name": "stdout",
     "output_type": "stream",
     "text": [
      "d = 3.022174\n",
      "**************************\n",
      "stationary using supplied d\n",
      "**************************\n",
      "g: 0.006892833763804623\n",
      "z_hat: 1.9638000950768109\n",
      "Omega: 0.9568038245589312\n",
      "c: 1.0322592014126297\n",
      "U_bar: 16.388219485078398\n",
      "lambda: 0.8923478897087848\n",
      "y: 1.0322592014126297\n",
      "ACR_full: 0.07286641939445852\n",
      "**************************\n",
      "stationary using baseline g and supplied d\n",
      "**************************\n",
      "c: 1.0334313813968588\n",
      "z_hat: 1.964276482337882\n",
      "Omega: 0.9579640570825019\n",
      "lambda: 0.8924137963233107\n",
      "U_bar: 16.11413532981301\n",
      "ACR_partial: 0.07138985482611841\n",
      "**************************\n",
      "welfare calculations\n",
      "**************************\n",
      "stationary_varied.U_bar - U_bar_partial = 0.2740841552653883\n",
      "c_partial = sol.c = 1.0334313813968588\n",
      "dc = c_partial - stationary_baseline.c = 0.0001626622229484731\n",
      "dc_partial_frac = (100dc) / stationary_baseline.c = 0.015742489821865525\n",
      "dg_frac = (100 * (stationary_varied.g - stationary_baseline.g)) / stationary_baseline.g = 2.241200049198491\n",
      "d_U_1 = 1 / (stationary_baseline.c * params.ρ) = 45.01406753527041\n",
      "d_U_bar - d_U_1 * dc = 0.27408357898636687\n",
      "d_U_Comp1_frac = (100 * (d_U_bar - d_U_1 * dc)) / d_U_bar = 97.39803097779527\n"
     ]
    }
   ],
   "source": [
    "externality_experiment(1 + 0.99*(d_baseline - 1))"
   ]
  },
  {
   "cell_type": "markdown",
   "metadata": {},
   "source": [
    "### Experiment #3 "
   ]
  },
  {
   "cell_type": "code",
   "execution_count": 8,
   "metadata": {},
   "outputs": [
    {
     "name": "stdout",
     "output_type": "stream",
     "text": [
      "d = 3.2468600000000003\n",
      "**************************\n",
      "stationary using supplied d\n",
      "**************************\n",
      "g: 0.005515805745114683\n",
      "z_hat: 2.1146718254856043\n",
      "Omega: 0.9990706075126489\n",
      "c: 1.0418073336835085\n",
      "U_bar: 13.837494426197056\n",
      "lambda: 0.9227395728815315\n",
      "y: 1.0418073336835085\n",
      "ACR_full: -0.5967120197541147\n",
      "**************************\n",
      "stationary using baseline g and supplied d\n",
      "**************************\n",
      "c: 1.0319091007743977\n",
      "z_hat: 2.110312225385956\n",
      "Omega: 0.989070467377111\n",
      "lambda: 0.9223222818491621\n",
      "U_bar: 16.045571561935816\n",
      "ACR_partial: -0.587668618467546\n",
      "**************************\n",
      "welfare calculations\n",
      "**************************\n",
      "stationary_varied.U_bar - U_bar_partial = -2.20807713573876\n",
      "c_partial = sol.c = 1.0319091007743977\n",
      "dc = c_partial - stationary_baseline.c = -0.0013596183995125966\n",
      "dc_partial_frac = (100dc) / stationary_baseline.c = -0.131584202084391\n",
      "dg_frac = (100 * (stationary_varied.g - stationary_baseline.g)) / stationary_baseline.g = -18.184215963521158\n",
      "d_U_1 = 1 / (stationary_baseline.c * params.ρ) = 45.01406753527041\n",
      "d_U_bar - d_U_1 * dc = -2.2081174371478793\n",
      "d_U_Comp1_frac = (100 * (d_U_bar - d_U_1 * dc)) / d_U_bar = 97.3030700445145\n"
     ]
    }
   ],
   "source": [
    "externality_experiment(1 + 1.1*(d_baseline - 1))"
   ]
  },
  {
   "cell_type": "markdown",
   "metadata": {},
   "source": [
    "### Experiment 4: Holding g and Omega Fixed"
   ]
  },
  {
   "cell_type": "code",
   "execution_count": 9,
   "metadata": {},
   "outputs": [
    {
     "data": {
      "text/plain": [
       "externality_experiment_g_Ω (generic function with 1 method)"
      ]
     },
     "execution_count": 9,
     "metadata": {},
     "output_type": "execute_result"
    }
   ],
   "source": [
    "# modify the function to use the new method\n",
    "function externality_experiment_g_Ω(d)\n",
    "    println(\"d = $d\")\n",
    "    println(\"**************************\")\n",
    "    println(\"stationary using supplied d\")\n",
    "    println(\"**************************\")\n",
    "    params_varied = merge(params, (d = d,))\n",
    "    stationary_varied = stationary_algebraic(params_varied, settings);\n",
    "    println(\"g: $(stationary_varied.g)\")\n",
    "    println(\"z_hat: $(stationary_varied.z_hat)\")\n",
    "    println(\"Omega: $(stationary_varied.Ω)\")\n",
    "    println(\"c: $(stationary_varied.c)\")\n",
    "    println(\"U_bar: $(stationary_varied.U_bar)\")\n",
    "    println(\"lambda: $(stationary_varied.λ_ii)\")\n",
    "    println(\"y: $(stationary_varied.y)\")\n",
    "    ACR_full = 100*(-1/params.θ)*log(stationary_varied.λ_ii/stationary_baseline.λ_ii)\n",
    "    println(\"ACR_full: $(ACR_full)\")\n",
    "\n",
    "    println(\"**************************\")\n",
    "    println(\"stationary using baseline g, Ω and supplied d\")\n",
    "    println(\"**************************\")\n",
    "    d_U_bar = stationary_varied.U_bar - stationary_baseline.U_bar\n",
    "    sol = stationary_algebraic_given_g_Ω(stationary_baseline.g, stationary_baseline.Ω, params_varied, settings) # i.e. parameters using inputted d, not d_0\n",
    "    println(\"c: $(sol.c)\")\n",
    "    println(\"z_hat: $(sol.z_hat)\")\n",
    "    println(\"Omega: $(sol.Ω)\")\n",
    "    println(\"lambda: $(sol.λ_ii)\")\n",
    "    println(\"U_bar: $(sol.U_bar)\")\n",
    "    U_bar_partial = sol.U_bar;\n",
    "    ACR_partial = 100*(-1/params.θ)*log(sol.λ_ii/stationary_baseline.λ_ii)\n",
    "    println(\"ACR_partial: $(ACR_partial)\")\n",
    "    \n",
    "    println(\"**************************\")\n",
    "    println(\"welfare calculations\")\n",
    "    println(\"**************************\")\n",
    "    @show stationary_varied.U_bar - U_bar_partial   \n",
    "    @show c_partial = sol.c\n",
    "    @show dc = c_partial - stationary_baseline.c\n",
    "    @show dc_partial_frac = 100*(dc)/stationary_baseline.c \n",
    "    @show dg_frac = 100*(stationary_varied.g - stationary_baseline.g)/stationary_baseline.g\n",
    "    @show d_U_1 = 1/(stationary_baseline.c * params.ρ) # constant\n",
    "    @show d_U_bar - d_U_1  * dc\n",
    "    @show d_U_Comp1_frac=100*(d_U_bar-d_U_1*dc)/d_U_bar\n",
    "    return nothing\n",
    "end"
   ]
  },
  {
   "cell_type": "code",
   "execution_count": 10,
   "metadata": {},
   "outputs": [
    {
     "name": "stdout",
     "output_type": "stream",
     "text": [
      "d = 3.022174\n",
      "**************************\n",
      "stationary using supplied d\n",
      "**************************\n",
      "g: 0.006892833763804623\n",
      "z_hat: 1.9638000950768109\n",
      "Omega: 0.9568038245589312\n",
      "c: 1.0322592014126297\n",
      "U_bar: 16.388219485078398\n",
      "lambda: 0.8923478897087848\n",
      "y: 1.0322592014126297\n",
      "ACR_full: 0.07286641939445852\n",
      "**************************\n",
      "stationary using baseline g, Ω and supplied d\n",
      "**************************\n",
      "c: 1.034005025633214\n",
      "z_hat: 1.9676598010079251\n",
      "Omega: 0.96128722109579\n",
      "lambda: 0.8928803896563527\n",
      "U_bar: 16.13994616284886\n",
      "ACR_partial: 0.06093946666771495\n",
      "**************************\n",
      "welfare calculations\n",
      "**************************\n",
      "stationary_varied.U_bar - U_bar_partial = 0.24827332222953657\n",
      "c_partial = sol.c = 1.034005025633214\n",
      "dc = c_partial - stationary_baseline.c = 0.0007363064593037816\n",
      "dc_partial_frac = (100dc) / stationary_baseline.c = 0.07125991967437593\n",
      "dg_frac = (100 * (stationary_varied.g - stationary_baseline.g)) / stationary_baseline.g = 2.241200049198491\n",
      "d_U_1 = 1 / (stationary_baseline.c * params.ρ) = 45.01406753527041\n",
      "d_U_bar - d_U_1 * dc = 0.2482615185898504\n",
      "d_U_Comp1_frac = (100 * (d_U_bar - d_U_1 * dc)) / d_U_bar = 88.22193276822135\n"
     ]
    }
   ],
   "source": [
    "externality_experiment_g_Ω((1 + 0.99*(d_baseline - 1)))"
   ]
  },
  {
   "cell_type": "markdown",
   "metadata": {},
   "source": [
    "### Mike Calibration"
   ]
  },
  {
   "cell_type": "code",
   "execution_count": 16,
   "metadata": {},
   "outputs": [],
   "source": [
    "params_mike = parameter_defaults( \n",
    "                                    θ = 5.0781, \n",
    "                                    κ = 0.0625,\n",
    "                                    χ = 1/4.7024,\n",
    "                                    μ = -0.0120,\n",
    "                                    υ = 0.0528,\n",
    "                                    σ = 3.2047,\n",
    "                                    δ = 0.028)\n",
    "\n",
    "params_mike = merge(params_mike, (d = 2.9770,));\n",
    "sol_mike = stationary_algebraic(params_mike, settings);"
   ]
  },
  {
   "cell_type": "code",
   "execution_count": 17,
   "metadata": {},
   "outputs": [
    {
     "data": {
      "text/plain": [
       "0.006641500570742306"
      ]
     },
     "execution_count": 17,
     "metadata": {},
     "output_type": "execute_result"
    }
   ],
   "source": [
    "mike_g = sol_mike.g"
   ]
  },
  {
   "cell_type": "code",
   "execution_count": 18,
   "metadata": {},
   "outputs": [
    {
     "data": {
      "text/plain": [
       "0.10541447982945973"
      ]
     },
     "execution_count": 18,
     "metadata": {},
     "output_type": "execute_result"
    }
   ],
   "source": [
    "trade_share_mike = 1 - sol_mike.λ_ii"
   ]
  },
  {
   "cell_type": "code",
   "execution_count": 21,
   "metadata": {},
   "outputs": [
    {
     "data": {
      "text/plain": [
       "1.0575334537440637"
      ]
     },
     "execution_count": 21,
     "metadata": {},
     "output_type": "execute_result"
    }
   ],
   "source": [
    "consumption_equivalent(sol_mike.U_bar, stationary_baseline.U_bar, params_mike) # only needs rho and gamma, which are constant "
   ]
  },
  {
   "cell_type": "code",
   "execution_count": 22,
   "metadata": {},
   "outputs": [
    {
     "data": {
      "text/plain": [
       "2.601826334143606"
      ]
     },
     "execution_count": 22,
     "metadata": {},
     "output_type": "execute_result"
    }
   ],
   "source": [
    "sol_mike.U_bar - stationary_baseline.U_bar"
   ]
  }
 ],
 "metadata": {
  "kernelspec": {
   "display_name": "Julia 1.3.0",
   "language": "julia",
   "name": "julia-1.3"
  },
  "language_info": {
   "file_extension": ".jl",
   "mimetype": "application/julia",
   "name": "julia",
   "version": "1.3.0"
  }
 },
 "nbformat": 4,
 "nbformat_minor": 4
}
